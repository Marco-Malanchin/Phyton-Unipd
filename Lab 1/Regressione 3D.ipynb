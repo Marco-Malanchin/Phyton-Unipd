{
 "cells": [
  {
   "cell_type": "code",
   "execution_count": 42,
   "id": "f995e795-75d4-41a8-b64d-44f44ddd5e4a",
   "metadata": {},
   "outputs": [
    {
     "name": "stdout",
     "output_type": "stream",
     "text": [
      "Prezzo stimato: 21310.525015042163\n"
     ]
    }
   ],
   "source": [
    "import matplotlib.pyplot as plt#import delle librerie\n",
    "import csv\n",
    "from scipy import stats\n",
    "from scipy.stats import linregress\n",
    "import numpy as np\n",
    "import sklearn as sl\n",
    "from sklearn import linear_model as lm\n",
    "from sklearn.linear_model import LinearRegression\n",
    "filename = \"data/km_year_power_price.csv\" #dichiaro il file\n",
    "linee = csv.reader(open(filename, newline=''), delimiter= ',') #apro il file e lo metto in un iteratore\n",
    "dataset = list(linee) #converto l'iteratore in una lista;\n",
    "data = list(dataset[1:])#tolgo la prima riga che non serve\n",
    "X = np.array([[float(row[0]), float(row[1]), float(row[2])] for row in data]) #importo i dati per fare la regressione, importando le simgole colonne\n",
    "Y = np.array([float(row[3]) for row in data])\n",
    "model = LinearRegression()#uso LinearRegression perchè mim permette di usare vettori a dimensioni multiple\n",
    "model.fit(X,Y)\n",
    "nuovo_esempio = np.array([[50000, 2018, 110]])  # Esempio di dati nuovi\n",
    "# Fare una previsione\n",
    "previsione = model.predict(nuovo_esempio)\n",
    "print(f\"Prezzo stimato: {previsione[0]}\")\n",
    "#per stampare il grafico serve un plotter 3d della libreria axis\n",
    "\n",
    "\n",
    "\n"
   ]
  },
  {
   "cell_type": "code",
   "execution_count": null,
   "id": "259e447c-5fdc-4f43-b34a-b82cf58fc7db",
   "metadata": {},
   "outputs": [],
   "source": []
  }
 ],
 "metadata": {
  "kernelspec": {
   "display_name": "Python 3 (ipykernel)",
   "language": "python",
   "name": "python3"
  },
  "language_info": {
   "codemirror_mode": {
    "name": "ipython",
    "version": 3
   },
   "file_extension": ".py",
   "mimetype": "text/x-python",
   "name": "python",
   "nbconvert_exporter": "python",
   "pygments_lexer": "ipython3",
   "version": "3.13.2"
  }
 },
 "nbformat": 4,
 "nbformat_minor": 5
}
