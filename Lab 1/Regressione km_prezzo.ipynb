
   "source": [
    "import matplotlib.pyplot as plt#import delle librerie\n",
    "import csv\n",
    "from scipy import stats\n",
    "from scipy.stats import linregress\n",
    "import numpy as np\n",
    "import sklearn as sl\n",
    "from sklearn import linear_model as lm\n",
    "filename = \"Desktop/Phyton-Unipd/Lab 1/data/km_year_power_price.csv\"#apro il file mettendo il nome completo\n",
    "lines = list(csv.reader(open(filename, newline=''), delimiter=','))#leggo il file e lo metto dentro una lista, csv,reader restituisce un iteratore\n",
    "header = lines[0] #salto la prima riga perchè contiene solo i nomi dei dati\n",
    "data = lines[1:] #carico nella lista, i valori del file\n",
    "X = np.array([float(row[0]) for row in data]) #carico nell array tutti i valori della prima colonna della lista\n",
    "Y = np.array([float(row[3]) for row in data]) # stessa cosa ma con l'ultima colonna\n",
    "result = linregress(X,Y) # faccio la regressione lineare\n",
    "slope, intercept = result.slope, result.intercept #do un nome ai riusltati della regressione\n",
    "km_macchina1 = 50000\n",
    "valore = (slope*km_macchina1) + intercept\n",
    "print(\"valore macchina 1 in base ai km=\", valore) # faccio un piccolo test\n",
    "plt.plot(X, Y, 'o', label = 'original_data') #stampo i dati originali\n",
    "plt.plot(X, intercept + slope * X, 'r', label=\"Regressione\")#stampo la regressione\n",
    "plt.xlabel('Km')\n",
    "plt.ylabel('valore')\n",
    "plt.legend()\n",
    "plt.show()\n"
   ]
  },
  {
   "cell_type": "code",
   "execution_count": null,
   "id": "888f9dbf-171f-4697-a849-ee75786aa474",
   "metadata": {},
   "outputs": [],
   "source": []
  },
  {
   "cell_type": "code",
   "execution_count": null,
   "id": "cdc556d2-d5f7-4c68-a2fa-7417b33e777f",
   "metadata": {},
   "outputs": [],
   "source": []
  }
 ],
 "metadata": {
  "kernelspec": {
   "display_name": "Python 3 (ipykernel)",
   "language": "python",
   "name": "python3"
  },
  "language_info": {
   "codemirror_mode": {
    "name": "ipython",
    "version": 3
   },
   "file_extension": ".py",
   "mimetype": "text/x-python",
   "name": "python",
   "nbconvert_exporter": "python",
   "pygments_lexer": "ipython3",
   "version": "3.13.2"
  }
 },
 "nbformat": 4,
 "nbformat_minor": 5
}
